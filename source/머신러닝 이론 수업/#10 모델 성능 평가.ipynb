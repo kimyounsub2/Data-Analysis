{
 "cells": [
  {
   "cell_type": "markdown",
   "metadata": {},
   "source": [
    "# 모델 성능 평가\n",
    "## 범주형의 성능 평가\n",
    "### 머신러닝 알고리즘\n",
    "* 어떠한 데이터를 이용해서, 어떠한 문제를 풀 것인가?\n",
    "* 알고리즘에 의해 데이터를 분류와 예측 수행\n",
    "* 머신러닝 알고리즘에 의한 결과는 정확할까?\n",
    "\n",
    "### 범주형?\n",
    "* 머신러닝의 결과가 명확히 분류되는 것\n",
    "* 이항 회귀분석, 검색 엔진, 의학 정보학 등의 분야에서 많이 다루어짐\n",
    "\n",
    "### 오차행렬\n",
    "* 머신런닝을 통해 나온 결과를 아래의 용어로 정리함\n",
    "    * TP(True Positive) : 참양성\n",
    "    * FP(False Positive) : 거짓양성\n",
    "    * FN(False Negative) : 거짓음성\n",
    "    * TN(True Negative) : 참음성\n",
    "\n",
    "### 범주형 자료의 측정\n",
    "* 측정하기 위한 요소 값\n",
    "<div align=\"center\"><img src=\" /C:/Users/김윤섭/Documents/혼자서 데이터 분석 공부하기/img/범주형.png\" ></div>"
   ]
  },
  {
   "cell_type": "code",
   "execution_count": null,
   "metadata": {},
   "outputs": [],
   "source": []
  }
 ],
 "metadata": {
  "kernelspec": {
   "display_name": "Python 3",
   "language": "python",
   "name": "python3"
  },
  "language_info": {
   "codemirror_mode": {
    "name": "ipython",
    "version": 3
   },
   "file_extension": ".py",
   "mimetype": "text/x-python",
   "name": "python",
   "nbconvert_exporter": "python",
   "pygments_lexer": "ipython3",
   "version": "3.7.0"
  }
 },
 "nbformat": 4,
 "nbformat_minor": 2
}
