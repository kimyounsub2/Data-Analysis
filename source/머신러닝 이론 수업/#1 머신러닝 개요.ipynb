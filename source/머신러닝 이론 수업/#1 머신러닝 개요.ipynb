{
 "cells": [
  {
   "cell_type": "markdown",
   "metadata": {},
   "source": [
    "### 머신러닝 개요\n",
    "* 머신러닝이라는 용여는 1959년 아서 사무엘의 논문에서 최초 정의되었음\n",
    "* 머신러닝은 인공지능의 한 분야이고, 딥 러닝은 머신러닝의 한부야임\n",
    "\n",
    "### 머신러닝이란?\n",
    "* 데이터를 이용해서 모델을 만들어 내는 방법\n",
    "* 논리적으로 설명하기 어려운 문제에 머신러닝을 적용하면 좋음\n",
    "\n",
    "### 머신러닝의 종류\n",
    "* 머신러닝은 학습방법에 따라 지도학습, 자율학습, 강화학습으로 나눌수 있음\n",
    "* 지도학습 : 데이터에 결과 값이 포함되어 있는 경우\n",
    "* 자율학습 : 데이터에 결과 값이 포함되어 있지 않은 경우\n",
    "* 강화학습 : 입력과 출력, 출력에 대한 점수가 있는 경우"
   ]
  },
  {
   "cell_type": "markdown",
   "metadata": {},
   "source": [
    "# 머신러닝 수행 절차\n",
    "## 데이터 수집 및 분석\n",
    "### 머신러닝 수행 절차\n",
    "* 데이터로부터 모델을 만드는 단계\n",
    "* 만들어진 모델을 적용하는 단계\n",
    "### 데이터 수집 및 분석\n",
    "* 머신러닝의 첫번째 단계는 문제를 정의하는 것임\n",
    "* 데이터를 수집하고 학습시키기 전에 전처리를 과정을 거침\n",
    "\n",
    "## 데이터 학습 및 평가\n",
    "### 데이터 학습\n",
    "* 문제의 종류에 따라 적절한 학습 방법과 알고리즘을 선택함\n",
    "\n",
    "### 모델평가\n",
    "* 학습 데이터와 검증 데이터를 구분하고, 모델 생성 후에 검증을 함\n"
   ]
  },
  {
   "cell_type": "code",
   "execution_count": null,
   "metadata": {},
   "outputs": [],
   "source": []
  }
 ],
 "metadata": {
  "kernelspec": {
   "display_name": "Python 3",
   "language": "python",
   "name": "python3"
  },
  "language_info": {
   "codemirror_mode": {
    "name": "ipython",
    "version": 3
   },
   "file_extension": ".py",
   "mimetype": "text/x-python",
   "name": "python",
   "nbconvert_exporter": "python",
   "pygments_lexer": "ipython3",
   "version": "3.7.0"
  }
 },
 "nbformat": 4,
 "nbformat_minor": 2
}
