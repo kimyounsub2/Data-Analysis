{
 "cells": [
  {
   "cell_type": "markdown",
   "metadata": {},
   "source": [
    "## 사건과 확률\n",
    "* 확률이란 어떤 사건이 일어날 가능성을 0과 1 사이의 숫자로 표시한 것임\n",
    "* 확률은 여러 가지로 정의할 수 있는데, 대표적으로 수학적확률과 통계적확률이 있음\n",
    "\n",
    "## 조건부확률과 독립성\n",
    "* 사건 B가 주어졌을 때, 사건 A의 조건부 확률은 다음과 같이 정의함\n",
    "<div align=\"center\"><img src=\" ../img/확률1.png\" width = \"200\" height=\"20\"></div>\n",
    "\n",
    "* 두사건 A,B가 다음을 만족할 때, A와 B는 서로 독립 이라고함\n",
    "<div align=\"center\"><img src=\" ../img/이미지.png\" width = \"200\" height=\"20\"></div>\n",
    "\n",
    "## 베이즈 정리\n",
    "* B1,B2, ~ ,Bn이 표본 공간에 대한 분할(partition)일 떄, 임의의 사건 A에 대하여 다음이 성립함(1<= k <=n)\n",
    "<div align=\"center\"><img src=\" ../img/이미지.png\" width = \"200\" height=\"20\"></div>"
   ]
  },
  {
   "cell_type": "code",
   "execution_count": null,
   "metadata": {},
   "outputs": [],
   "source": []
  }
 ],
 "metadata": {
  "kernelspec": {
   "display_name": "Python 3",
   "language": "python",
   "name": "python3"
  },
  "language_info": {
   "codemirror_mode": {
    "name": "ipython",
    "version": 3
   },
   "file_extension": ".py",
   "mimetype": "text/x-python",
   "name": "python",
   "nbconvert_exporter": "python",
   "pygments_lexer": "ipython3",
   "version": "3.7.0"
  }
 },
 "nbformat": 4,
 "nbformat_minor": 2
}
