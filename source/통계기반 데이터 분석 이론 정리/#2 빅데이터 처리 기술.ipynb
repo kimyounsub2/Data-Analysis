{
 "cells": [
  {
   "cell_type": "markdown",
   "metadata": {},
   "source": [
    "# 빅데이터 처리 기술\n",
    "### 빅데이터 처리 기술\n",
    "* 빅데이터 : 디지털 환경에서 생성되는 문자와 영상 데이터를 포함하는 대규모 데이터\n",
    "* 데이터 처리 기술 : 데이터 처리를 위한 하드웨어 및 소프트웨어 기술\n",
    "* 빅데이터 처리 기술은 크게 저장 기술, 분석 기술 및 표현 기술의 세 가지로 나뉨\n",
    "\n",
    "### 빅데이터 분석 도구와 활용\n",
    "* 빅데이터 분석 도구 : 빅데이터의 처리를 목적으로 하는 소프트웨어\n",
    "* 구체화된 업무에 적용되는 통계분석, 시각화, 구조분석, 기타 특성분석을 위한 솔루션\n",
    "\n",
    "### 데이터 시각화의 사용\n",
    "* 데이터 시각화 : 데이터 분석 결과를 쉽게 이해할 수 있도록 시각적으로 표현하고 전달하는 과정\n",
    "* R과 시각화\n",
    "    * 강력한 분석 및 시각화 도구\n",
    "    * 글픽 및 인포그래픽 작성 기능 지원\n",
    "    * 구글맵스를 이용한 맵핑과 워드클라우드 작성 가능\n",
    "    * 다양한 그래픽 생성 가능\n",
    "* R-Studio : R의 단점인 스크립트 관리 및 문서화, 편안한 유저 인터페이스를 제공하는 프로그램으로 메모리에 변수가 어덯게 설정되어 있는지 확인 할 수 있고, 변수타입을 확인할 수 있다."
   ]
  },
  {
   "cell_type": "code",
   "execution_count": null,
   "metadata": {},
   "outputs": [],
   "source": []
  }
 ],
 "metadata": {
  "kernelspec": {
   "display_name": "Python 3",
   "language": "python",
   "name": "python3"
  },
  "language_info": {
   "codemirror_mode": {
    "name": "ipython",
    "version": 3
   },
   "file_extension": ".py",
   "mimetype": "text/x-python",
   "name": "python",
   "nbconvert_exporter": "python",
   "pygments_lexer": "ipython3",
   "version": "3.7.0"
  }
 },
 "nbformat": 4,
 "nbformat_minor": 2
}
