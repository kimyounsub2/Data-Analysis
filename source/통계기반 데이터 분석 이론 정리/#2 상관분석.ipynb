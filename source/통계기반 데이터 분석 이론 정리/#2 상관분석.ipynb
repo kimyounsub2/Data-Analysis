{
 "cells": [
  {
   "cell_type": "markdown",
   "metadata": {},
   "source": [
    "# 상관분석\n",
    "### 상관분석의 개념\n",
    "* 상관분석 : 두 변수 간에 관계가 있는지를 알아보고자 할 때 실시하는 분석방법\n",
    "* 상관관계 : 두 변수(대상)이 서로 관련성이 있다고 추측되는 관계\n",
    "* 광관계수 : 상관분석에서 두 변수의 관련된 정도를 나타내주는 값\n",
    "\n",
    "### 상관분석의 특징\n",
    "* 양의 상관 : 하나의 변수가 커질수록 다른 변수도 함께 커지는 경우\n",
    "* 음의 상관 : 하나의 변수가 커질수록 다른 변수는 오히려 작아지는 경우\n",
    "* 무상관 : 변수끼리 서로 상관이 없는 경우\n",
    "* 상관계수의 값 : -1 <= r <= 1\n",
    "* 두변수의 관련성이 클수록 상관계수는 1에 가까워지고 두 변수의 관련성이 적을수록 상관계수는 0에 가까워짐\n",
    "\n",
    "### R을 이용한 상관분석\n",
    "* 상관분석 그래프를 구현하기 위해 'corrplot'와 lattice 패키지를 설치함\n",
    "* cor 함수를 이용하여 상관 계수를 산출함\n",
    "* ggplot2 패키지를 이용하여 데이터 시각화"
   ]
  },
  {
   "cell_type": "code",
   "execution_count": null,
   "metadata": {},
   "outputs": [],
   "source": []
  }
 ],
 "metadata": {
  "kernelspec": {
   "display_name": "Python 3",
   "language": "python",
   "name": "python3"
  },
  "language_info": {
   "codemirror_mode": {
    "name": "ipython",
    "version": 3
   },
   "file_extension": ".py",
   "mimetype": "text/x-python",
   "name": "python",
   "nbconvert_exporter": "python",
   "pygments_lexer": "ipython3",
   "version": "3.7.0"
  }
 },
 "nbformat": 4,
 "nbformat_minor": 2
}
